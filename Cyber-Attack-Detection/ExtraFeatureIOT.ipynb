{
 "cells": [
  {
   "cell_type": "code",
   "execution_count": 31,
   "metadata": {},
   "outputs": [],
   "source": [
    "from collections.abc import Sequence\n",
    "from sklearn import preprocessing\n",
    "import matplotlib.pyplot as plt\n",
    "import numpy as np\n",
    "import pandas as pd\n",
    "import shutil\n",
    "import os\n",
    "from tensorflow.keras.models import Sequential\n",
    "from tensorflow.keras.layers import Dense, Activation\n",
    "import pandas as pd\n",
    "import io\n",
    "import glob\n",
    "import requests\n",
    "import numpy as np\n",
    "from sklearn.model_selection import train_test_split, GridSearchCV\n",
    "from sklearn import metrics\n",
    "import pandas as pd\n",
    "os.chdir(r\"C:\\Users\\14159\\Desktop\\AI\\Prctce\")"
   ]
  },
  {
   "cell_type": "code",
   "execution_count": 32,
   "metadata": {},
   "outputs": [],
   "source": [
    "%matplotlib inline\n",
    "from sklearn.metrics import roc_curve, auc\n",
    "\n",
    "# Plot a confusion matrix.\n",
    "# cm is the confusion matrix, names are the names of the classes.\n",
    "def plot_confusion_matrix(cm, names, title='Confusion matrix', cmap=plt.cm.Blues):\n",
    "    plt.imshow(cm, interpolation='nearest', cmap=cmap)\n",
    "    plt.title(title)\n",
    "    plt.colorbar()\n",
    "    tick_marks = np.arange(len(names))\n",
    "    plt.xticks(tick_marks, names, rotation=45)\n",
    "    plt.yticks(tick_marks, names)\n",
    "    plt.tight_layout()\n",
    "    plt.ylabel('True label')\n",
    "    plt.xlabel('Predicted label')\n",
    "    \n",
    "\n",
    "# Plot an ROC. pred - the predictions, y - the expected output.\n",
    "def plot_roc(pred,y):\n",
    "    fpr, tpr, thresholds = roc_curve(y, pred)\n",
    "    roc_auc = auc(fpr, tpr)\n",
    "    plt.figure()\n",
    "    plt.plot(fpr, tpr, label='ROC curve (area = %0.2f)' % roc_auc)\n",
    "    plt.plot([0, 1], [0, 1], 'k--')\n",
    "    plt.xlim([0.0, 1.0])\n",
    "    plt.ylim([0.0, 1.05])\n",
    "    plt.xlabel('False Positive Rate')\n",
    "    plt.ylabel('True Positive Rate')\n",
    "    plt.title('Receiver Operating Characteristic (ROC)')\n",
    "    plt.legend(loc=\"lower right\")\n",
    "    plt.show()"
   ]
  },
  {
   "cell_type": "code",
   "execution_count": 33,
   "metadata": {},
   "outputs": [],
   "source": [
    "extension = 'csv'\n",
    "all_filenames = [i for i in glob.glob('*.{}'.format(extension))]"
   ]
  },
  {
   "cell_type": "code",
   "execution_count": 34,
   "metadata": {},
   "outputs": [],
   "source": [
    "combined_csv = pd.concat([pd.read_csv(f) for f in all_filenames ])\n",
    "#export to csv\n",
    "combined_csv.to_csv( \"UNSW_2018_IoT_Botnet_Final_10_best_Training.csv\", index=False, encoding='utf-8-sig')"
   ]
  },
  {
   "cell_type": "code",
   "execution_count": 35,
   "metadata": {},
   "outputs": [
    {
     "data": {
      "text/html": [
       "<div>\n",
       "<style scoped>\n",
       "    .dataframe tbody tr th:only-of-type {\n",
       "        vertical-align: middle;\n",
       "    }\n",
       "\n",
       "    .dataframe tbody tr th {\n",
       "        vertical-align: top;\n",
       "    }\n",
       "\n",
       "    .dataframe thead th {\n",
       "        text-align: right;\n",
       "    }\n",
       "</style>\n",
       "<table border=\"1\" class=\"dataframe\">\n",
       "  <thead>\n",
       "    <tr style=\"text-align: right;\">\n",
       "      <th></th>\n",
       "      <th>pkSeqID</th>\n",
       "      <th>proto</th>\n",
       "      <th>saddr</th>\n",
       "      <th>sport</th>\n",
       "      <th>daddr</th>\n",
       "      <th>dport</th>\n",
       "      <th>seq</th>\n",
       "      <th>stddev</th>\n",
       "      <th>N_IN_Conn_P_SrcIP</th>\n",
       "      <th>min</th>\n",
       "      <th>state_number</th>\n",
       "      <th>mean</th>\n",
       "      <th>N_IN_Conn_P_DstIP</th>\n",
       "      <th>drate</th>\n",
       "      <th>srate</th>\n",
       "      <th>max</th>\n",
       "      <th>attack</th>\n",
       "      <th>category</th>\n",
       "      <th>subcategory</th>\n",
       "    </tr>\n",
       "  </thead>\n",
       "  <tbody>\n",
       "    <tr>\n",
       "      <td>0</td>\n",
       "      <td>792371</td>\n",
       "      <td>udp</td>\n",
       "      <td>192.168.100.150</td>\n",
       "      <td>48516</td>\n",
       "      <td>192.168.100.3</td>\n",
       "      <td>80</td>\n",
       "      <td>175094</td>\n",
       "      <td>0.226784</td>\n",
       "      <td>100</td>\n",
       "      <td>4.100436</td>\n",
       "      <td>4</td>\n",
       "      <td>4.457383</td>\n",
       "      <td>100</td>\n",
       "      <td>0.000000</td>\n",
       "      <td>0.404711</td>\n",
       "      <td>4.719438</td>\n",
       "      <td>1</td>\n",
       "      <td>DoS</td>\n",
       "      <td>UDP</td>\n",
       "    </tr>\n",
       "    <tr>\n",
       "      <td>1</td>\n",
       "      <td>2056418</td>\n",
       "      <td>tcp</td>\n",
       "      <td>192.168.100.148</td>\n",
       "      <td>22267</td>\n",
       "      <td>192.168.100.3</td>\n",
       "      <td>80</td>\n",
       "      <td>143024</td>\n",
       "      <td>0.451998</td>\n",
       "      <td>100</td>\n",
       "      <td>3.439257</td>\n",
       "      <td>1</td>\n",
       "      <td>3.806172</td>\n",
       "      <td>100</td>\n",
       "      <td>0.225077</td>\n",
       "      <td>0.401397</td>\n",
       "      <td>4.442930</td>\n",
       "      <td>1</td>\n",
       "      <td>DDoS</td>\n",
       "      <td>TCP</td>\n",
       "    </tr>\n",
       "    <tr>\n",
       "      <td>2</td>\n",
       "      <td>2795650</td>\n",
       "      <td>udp</td>\n",
       "      <td>192.168.100.149</td>\n",
       "      <td>28629</td>\n",
       "      <td>192.168.100.3</td>\n",
       "      <td>80</td>\n",
       "      <td>167033</td>\n",
       "      <td>1.931553</td>\n",
       "      <td>73</td>\n",
       "      <td>0.000000</td>\n",
       "      <td>4</td>\n",
       "      <td>2.731204</td>\n",
       "      <td>100</td>\n",
       "      <td>0.000000</td>\n",
       "      <td>0.407287</td>\n",
       "      <td>4.138455</td>\n",
       "      <td>1</td>\n",
       "      <td>DDoS</td>\n",
       "      <td>UDP</td>\n",
       "    </tr>\n",
       "    <tr>\n",
       "      <td>3</td>\n",
       "      <td>2118009</td>\n",
       "      <td>tcp</td>\n",
       "      <td>192.168.100.148</td>\n",
       "      <td>42142</td>\n",
       "      <td>192.168.100.3</td>\n",
       "      <td>80</td>\n",
       "      <td>204615</td>\n",
       "      <td>0.428798</td>\n",
       "      <td>56</td>\n",
       "      <td>3.271411</td>\n",
       "      <td>1</td>\n",
       "      <td>3.626428</td>\n",
       "      <td>100</td>\n",
       "      <td>0.000000</td>\n",
       "      <td>0.343654</td>\n",
       "      <td>4.229700</td>\n",
       "      <td>1</td>\n",
       "      <td>DDoS</td>\n",
       "      <td>TCP</td>\n",
       "    </tr>\n",
       "    <tr>\n",
       "      <td>4</td>\n",
       "      <td>303688</td>\n",
       "      <td>tcp</td>\n",
       "      <td>192.168.100.149</td>\n",
       "      <td>1645</td>\n",
       "      <td>192.168.100.5</td>\n",
       "      <td>80</td>\n",
       "      <td>40058</td>\n",
       "      <td>2.058381</td>\n",
       "      <td>100</td>\n",
       "      <td>0.000000</td>\n",
       "      <td>3</td>\n",
       "      <td>1.188407</td>\n",
       "      <td>100</td>\n",
       "      <td>0.000000</td>\n",
       "      <td>0.135842</td>\n",
       "      <td>4.753628</td>\n",
       "      <td>1</td>\n",
       "      <td>DoS</td>\n",
       "      <td>TCP</td>\n",
       "    </tr>\n",
       "    <tr>\n",
       "      <td>...</td>\n",
       "      <td>...</td>\n",
       "      <td>...</td>\n",
       "      <td>...</td>\n",
       "      <td>...</td>\n",
       "      <td>...</td>\n",
       "      <td>...</td>\n",
       "      <td>...</td>\n",
       "      <td>...</td>\n",
       "      <td>...</td>\n",
       "      <td>...</td>\n",
       "      <td>...</td>\n",
       "      <td>...</td>\n",
       "      <td>...</td>\n",
       "      <td>...</td>\n",
       "      <td>...</td>\n",
       "      <td>...</td>\n",
       "      <td>...</td>\n",
       "      <td>...</td>\n",
       "      <td>...</td>\n",
       "    </tr>\n",
       "    <tr>\n",
       "      <td>2934812</td>\n",
       "      <td>1132803</td>\n",
       "      <td>udp</td>\n",
       "      <td>192.168.100.149</td>\n",
       "      <td>56044</td>\n",
       "      <td>192.168.100.5</td>\n",
       "      <td>80</td>\n",
       "      <td>253370</td>\n",
       "      <td>0.016992</td>\n",
       "      <td>100</td>\n",
       "      <td>4.082509</td>\n",
       "      <td>4</td>\n",
       "      <td>4.102515</td>\n",
       "      <td>100</td>\n",
       "      <td>0.000000</td>\n",
       "      <td>0.243473</td>\n",
       "      <td>4.124047</td>\n",
       "      <td>1</td>\n",
       "      <td>DoS</td>\n",
       "      <td>UDP</td>\n",
       "    </tr>\n",
       "    <tr>\n",
       "      <td>2934813</td>\n",
       "      <td>3384621</td>\n",
       "      <td>udp</td>\n",
       "      <td>192.168.100.150</td>\n",
       "      <td>21546</td>\n",
       "      <td>192.168.100.3</td>\n",
       "      <td>80</td>\n",
       "      <td>231693</td>\n",
       "      <td>1.922317</td>\n",
       "      <td>100</td>\n",
       "      <td>0.000000</td>\n",
       "      <td>4</td>\n",
       "      <td>2.718527</td>\n",
       "      <td>100</td>\n",
       "      <td>0.000000</td>\n",
       "      <td>0.490800</td>\n",
       "      <td>4.090534</td>\n",
       "      <td>1</td>\n",
       "      <td>DDoS</td>\n",
       "      <td>UDP</td>\n",
       "    </tr>\n",
       "    <tr>\n",
       "      <td>2934814</td>\n",
       "      <td>775893</td>\n",
       "      <td>udp</td>\n",
       "      <td>192.168.100.149</td>\n",
       "      <td>30897</td>\n",
       "      <td>192.168.100.5</td>\n",
       "      <td>80</td>\n",
       "      <td>158616</td>\n",
       "      <td>2.112228</td>\n",
       "      <td>100</td>\n",
       "      <td>0.000000</td>\n",
       "      <td>4</td>\n",
       "      <td>2.110766</td>\n",
       "      <td>100</td>\n",
       "      <td>0.000000</td>\n",
       "      <td>0.207444</td>\n",
       "      <td>4.332615</td>\n",
       "      <td>1</td>\n",
       "      <td>DoS</td>\n",
       "      <td>UDP</td>\n",
       "    </tr>\n",
       "    <tr>\n",
       "      <td>2934815</td>\n",
       "      <td>443484</td>\n",
       "      <td>tcp</td>\n",
       "      <td>192.168.100.147</td>\n",
       "      <td>36904</td>\n",
       "      <td>192.168.100.7</td>\n",
       "      <td>80</td>\n",
       "      <td>179855</td>\n",
       "      <td>0.000000</td>\n",
       "      <td>100</td>\n",
       "      <td>0.000000</td>\n",
       "      <td>3</td>\n",
       "      <td>0.000000</td>\n",
       "      <td>100</td>\n",
       "      <td>0.000000</td>\n",
       "      <td>0.162130</td>\n",
       "      <td>0.000000</td>\n",
       "      <td>1</td>\n",
       "      <td>DoS</td>\n",
       "      <td>TCP</td>\n",
       "    </tr>\n",
       "    <tr>\n",
       "      <td>2934816</td>\n",
       "      <td>96906</td>\n",
       "      <td>tcp</td>\n",
       "      <td>192.168.100.150</td>\n",
       "      <td>14302</td>\n",
       "      <td>192.168.100.3</td>\n",
       "      <td>80</td>\n",
       "      <td>95429</td>\n",
       "      <td>0.053820</td>\n",
       "      <td>100</td>\n",
       "      <td>0.064767</td>\n",
       "      <td>1</td>\n",
       "      <td>0.118588</td>\n",
       "      <td>100</td>\n",
       "      <td>0.038796</td>\n",
       "      <td>0.116388</td>\n",
       "      <td>0.172408</td>\n",
       "      <td>1</td>\n",
       "      <td>DoS</td>\n",
       "      <td>TCP</td>\n",
       "    </tr>\n",
       "  </tbody>\n",
       "</table>\n",
       "<p>3668522 rows × 19 columns</p>\n",
       "</div>"
      ],
      "text/plain": [
       "         pkSeqID proto            saddr  sport          daddr dport     seq  \\\n",
       "0         792371   udp  192.168.100.150  48516  192.168.100.3    80  175094   \n",
       "1        2056418   tcp  192.168.100.148  22267  192.168.100.3    80  143024   \n",
       "2        2795650   udp  192.168.100.149  28629  192.168.100.3    80  167033   \n",
       "3        2118009   tcp  192.168.100.148  42142  192.168.100.3    80  204615   \n",
       "4         303688   tcp  192.168.100.149   1645  192.168.100.5    80   40058   \n",
       "...          ...   ...              ...    ...            ...   ...     ...   \n",
       "2934812  1132803   udp  192.168.100.149  56044  192.168.100.5    80  253370   \n",
       "2934813  3384621   udp  192.168.100.150  21546  192.168.100.3    80  231693   \n",
       "2934814   775893   udp  192.168.100.149  30897  192.168.100.5    80  158616   \n",
       "2934815   443484   tcp  192.168.100.147  36904  192.168.100.7    80  179855   \n",
       "2934816    96906   tcp  192.168.100.150  14302  192.168.100.3    80   95429   \n",
       "\n",
       "           stddev  N_IN_Conn_P_SrcIP       min  state_number      mean  \\\n",
       "0        0.226784                100  4.100436             4  4.457383   \n",
       "1        0.451998                100  3.439257             1  3.806172   \n",
       "2        1.931553                 73  0.000000             4  2.731204   \n",
       "3        0.428798                 56  3.271411             1  3.626428   \n",
       "4        2.058381                100  0.000000             3  1.188407   \n",
       "...           ...                ...       ...           ...       ...   \n",
       "2934812  0.016992                100  4.082509             4  4.102515   \n",
       "2934813  1.922317                100  0.000000             4  2.718527   \n",
       "2934814  2.112228                100  0.000000             4  2.110766   \n",
       "2934815  0.000000                100  0.000000             3  0.000000   \n",
       "2934816  0.053820                100  0.064767             1  0.118588   \n",
       "\n",
       "         N_IN_Conn_P_DstIP     drate     srate       max  attack category  \\\n",
       "0                      100  0.000000  0.404711  4.719438       1      DoS   \n",
       "1                      100  0.225077  0.401397  4.442930       1     DDoS   \n",
       "2                      100  0.000000  0.407287  4.138455       1     DDoS   \n",
       "3                      100  0.000000  0.343654  4.229700       1     DDoS   \n",
       "4                      100  0.000000  0.135842  4.753628       1      DoS   \n",
       "...                    ...       ...       ...       ...     ...      ...   \n",
       "2934812                100  0.000000  0.243473  4.124047       1      DoS   \n",
       "2934813                100  0.000000  0.490800  4.090534       1     DDoS   \n",
       "2934814                100  0.000000  0.207444  4.332615       1      DoS   \n",
       "2934815                100  0.000000  0.162130  0.000000       1      DoS   \n",
       "2934816                100  0.038796  0.116388  0.172408       1      DoS   \n",
       "\n",
       "        subcategory  \n",
       "0               UDP  \n",
       "1               TCP  \n",
       "2               UDP  \n",
       "3               TCP  \n",
       "4               TCP  \n",
       "...             ...  \n",
       "2934812         UDP  \n",
       "2934813         UDP  \n",
       "2934814         UDP  \n",
       "2934815         TCP  \n",
       "2934816         TCP  \n",
       "\n",
       "[3668522 rows x 19 columns]"
      ]
     },
     "execution_count": 35,
     "metadata": {},
     "output_type": "execute_result"
    }
   ],
   "source": [
    "finaldata=combined_csv\n",
    "finaldata"
   ]
  },
  {
   "cell_type": "code",
   "execution_count": 36,
   "metadata": {},
   "outputs": [
    {
     "data": {
      "text/plain": [
       "pkSeqID              0\n",
       "proto                0\n",
       "saddr                0\n",
       "sport                0\n",
       "daddr                0\n",
       "dport                0\n",
       "seq                  0\n",
       "stddev               0\n",
       "N_IN_Conn_P_SrcIP    0\n",
       "min                  0\n",
       "state_number         0\n",
       "mean                 0\n",
       "N_IN_Conn_P_DstIP    0\n",
       "drate                0\n",
       "srate                0\n",
       "max                  0\n",
       "attack               0\n",
       "category             0\n",
       "subcategory          0\n",
       "dtype: int64"
      ]
     },
     "execution_count": 36,
     "metadata": {},
     "output_type": "execute_result"
    }
   ],
   "source": [
    "finaldata.isnull().sum()"
   ]
  },
  {
   "cell_type": "code",
   "execution_count": 37,
   "metadata": {},
   "outputs": [
    {
     "data": {
      "text/plain": [
       "0          udp\n",
       "1          tcp\n",
       "2          udp\n",
       "3          tcp\n",
       "4          tcp\n",
       "          ... \n",
       "2934812    udp\n",
       "2934813    udp\n",
       "2934814    udp\n",
       "2934815    tcp\n",
       "2934816    tcp\n",
       "Name: proto, Length: 3668522, dtype: object"
      ]
     },
     "execution_count": 37,
     "metadata": {},
     "output_type": "execute_result"
    }
   ],
   "source": [
    "finaldata.proto"
   ]
  },
  {
   "cell_type": "code",
   "execution_count": 38,
   "metadata": {},
   "outputs": [
    {
     "data": {
      "text/plain": [
       "pkSeqID                int64\n",
       "proto                 object\n",
       "saddr                 object\n",
       "sport                 object\n",
       "daddr                 object\n",
       "dport                 object\n",
       "seq                    int64\n",
       "stddev               float64\n",
       "N_IN_Conn_P_SrcIP      int64\n",
       "min                  float64\n",
       "state_number           int64\n",
       "mean                 float64\n",
       "N_IN_Conn_P_DstIP      int64\n",
       "drate                float64\n",
       "srate                float64\n",
       "max                  float64\n",
       "attack                 int64\n",
       "category              object\n",
       "subcategory           object\n",
       "dtype: object"
      ]
     },
     "execution_count": 38,
     "metadata": {},
     "output_type": "execute_result"
    }
   ],
   "source": [
    "x=finaldata.dtypes\n",
    "x"
   ]
  },
  {
   "cell_type": "code",
   "execution_count": 39,
   "metadata": {},
   "outputs": [
    {
     "data": {
      "text/plain": [
       "pkSeqID              0\n",
       "proto                0\n",
       "saddr                0\n",
       "sport                0\n",
       "daddr                0\n",
       "dport                0\n",
       "seq                  0\n",
       "stddev               0\n",
       "N_IN_Conn_P_SrcIP    0\n",
       "min                  0\n",
       "state_number         0\n",
       "mean                 0\n",
       "N_IN_Conn_P_DstIP    0\n",
       "drate                0\n",
       "srate                0\n",
       "max                  0\n",
       "attack               0\n",
       "category             0\n",
       "subcategory          0\n",
       "dtype: int64"
      ]
     },
     "execution_count": 39,
     "metadata": {},
     "output_type": "execute_result"
    }
   ],
   "source": [
    "finaldata.isnull().sum()"
   ]
  },
  {
   "cell_type": "code",
   "execution_count": 40,
   "metadata": {},
   "outputs": [
    {
     "data": {
      "text/plain": [
       "Index(['pkSeqID', 'proto', 'saddr', 'sport', 'daddr', 'dport', 'seq', 'stddev',\n",
       "       'N_IN_Conn_P_SrcIP', 'min', 'state_number', 'mean', 'N_IN_Conn_P_DstIP',\n",
       "       'drate', 'srate', 'max', 'attack', 'category', 'subcategory'],\n",
       "      dtype='object')"
      ]
     },
     "execution_count": 40,
     "metadata": {},
     "output_type": "execute_result"
    }
   ],
   "source": [
    "finaldata.columns"
   ]
  },
  {
   "cell_type": "code",
   "execution_count": 41,
   "metadata": {},
   "outputs": [
    {
     "data": {
      "text/plain": [
       "0          80\n",
       "1          80\n",
       "2          80\n",
       "3          80\n",
       "4          80\n",
       "           ..\n",
       "2934812    80\n",
       "2934813    80\n",
       "2934814    80\n",
       "2934815    80\n",
       "2934816    80\n",
       "Name: dport, Length: 3668522, dtype: object"
      ]
     },
     "execution_count": 41,
     "metadata": {},
     "output_type": "execute_result"
    }
   ],
   "source": [
    "finaldata.dport\n",
    "#values.astype(np.float32)"
   ]
  },
  {
   "cell_type": "code",
   "execution_count": 42,
   "metadata": {},
   "outputs": [],
   "source": [
    "#from numpy import *\n",
    "#finaldata[\"sport\"] = pd.to_numeric(finaldata.sport, errors='coerce')\n",
    "#finaldata[\"dport\"] = pd.to_numeric(finaldata.sport, errors='coerce')"
   ]
  },
  {
   "cell_type": "code",
   "execution_count": 43,
   "metadata": {},
   "outputs": [
    {
     "data": {
      "text/plain": [
       "pkSeqID                int64\n",
       "proto                 object\n",
       "saddr                 object\n",
       "sport                 object\n",
       "daddr                 object\n",
       "dport                 object\n",
       "seq                    int64\n",
       "stddev               float64\n",
       "N_IN_Conn_P_SrcIP      int64\n",
       "min                  float64\n",
       "state_number           int64\n",
       "mean                 float64\n",
       "N_IN_Conn_P_DstIP      int64\n",
       "drate                float64\n",
       "srate                float64\n",
       "max                  float64\n",
       "attack                 int64\n",
       "category              object\n",
       "subcategory           object\n",
       "dtype: object"
      ]
     },
     "execution_count": 43,
     "metadata": {},
     "output_type": "execute_result"
    }
   ],
   "source": [
    "temp=finaldata.dtypes\n",
    "temp"
   ]
  },
  {
   "cell_type": "code",
   "execution_count": 44,
   "metadata": {},
   "outputs": [
    {
     "data": {
      "text/plain": [
       "0          False\n",
       "1          False\n",
       "2          False\n",
       "3          False\n",
       "4          False\n",
       "           ...  \n",
       "2934812    False\n",
       "2934813    False\n",
       "2934814    False\n",
       "2934815    False\n",
       "2934816    False\n",
       "Name: sport, Length: 3668522, dtype: bool"
      ]
     },
     "execution_count": 44,
     "metadata": {},
     "output_type": "execute_result"
    }
   ],
   "source": [
    "finaldata.sport.isnull()"
   ]
  },
  {
   "cell_type": "code",
   "execution_count": 45,
   "metadata": {},
   "outputs": [
    {
     "data": {
      "text/plain": [
       "['DoS', 'DDoS', 'Reconnaissance', 'Normal', 'Theft']"
      ]
     },
     "execution_count": 45,
     "metadata": {},
     "output_type": "execute_result"
    }
   ],
   "source": [
    "check = list(finaldata['category'].unique())\n",
    "check"
   ]
  },
  {
   "cell_type": "code",
   "execution_count": 46,
   "metadata": {},
   "outputs": [
    {
     "data": {
      "text/plain": [
       "['UDP',\n",
       " 'TCP',\n",
       " 'Service_Scan',\n",
       " 'HTTP',\n",
       " 'OS_Fingerprint',\n",
       " 'Normal',\n",
       " 'Keylogging',\n",
       " 'Data_Exfiltration']"
      ]
     },
     "execution_count": 46,
     "metadata": {},
     "output_type": "execute_result"
    }
   ],
   "source": [
    "check = list(finaldata['subcategory'].unique())\n",
    "check"
   ]
  },
  {
   "cell_type": "code",
   "execution_count": 47,
   "metadata": {},
   "outputs": [
    {
     "data": {
      "text/plain": [
       "['udp', 'tcp', 'icmp', 'arp', 'ipv6-icmp']"
      ]
     },
     "execution_count": 47,
     "metadata": {},
     "output_type": "execute_result"
    }
   ],
   "source": [
    "check = list(finaldata['proto'].unique())\n",
    "check"
   ]
  },
  {
   "cell_type": "code",
   "execution_count": 48,
   "metadata": {},
   "outputs": [
    {
     "data": {
      "text/plain": [
       "pkSeqID                int64\n",
       "proto                 object\n",
       "saddr                 object\n",
       "sport                 object\n",
       "daddr                 object\n",
       "dport                 object\n",
       "seq                    int64\n",
       "stddev               float64\n",
       "N_IN_Conn_P_SrcIP      int64\n",
       "min                  float64\n",
       "state_number           int64\n",
       "mean                 float64\n",
       "N_IN_Conn_P_DstIP      int64\n",
       "drate                float64\n",
       "srate                float64\n",
       "max                  float64\n",
       "attack                 int64\n",
       "category              object\n",
       "subcategory           object\n",
       "dtype: object"
      ]
     },
     "execution_count": 48,
     "metadata": {},
     "output_type": "execute_result"
    }
   ],
   "source": [
    "temp=finaldata.dtypes\n",
    "temp"
   ]
  },
  {
   "cell_type": "code",
   "execution_count": 49,
   "metadata": {},
   "outputs": [
    {
     "data": {
      "text/plain": [
       "Index(['pkSeqID', 'proto', 'saddr', 'sport', 'daddr', 'dport', 'seq', 'stddev',\n",
       "       'N_IN_Conn_P_SrcIP', 'min', 'state_number', 'mean', 'N_IN_Conn_P_DstIP',\n",
       "       'drate', 'srate', 'max', 'attack', 'category', 'subcategory'],\n",
       "      dtype='object')"
      ]
     },
     "execution_count": 49,
     "metadata": {},
     "output_type": "execute_result"
    }
   ],
   "source": [
    "finaldata.columns"
   ]
  },
  {
   "cell_type": "code",
   "execution_count": 50,
   "metadata": {},
   "outputs": [
    {
     "data": {
      "text/plain": [
       "pkSeqID              0\n",
       "proto                0\n",
       "saddr                0\n",
       "sport                0\n",
       "daddr                0\n",
       "dport                0\n",
       "seq                  0\n",
       "stddev               0\n",
       "N_IN_Conn_P_SrcIP    0\n",
       "min                  0\n",
       "state_number         0\n",
       "mean                 0\n",
       "N_IN_Conn_P_DstIP    0\n",
       "drate                0\n",
       "srate                0\n",
       "max                  0\n",
       "attack               0\n",
       "category             0\n",
       "subcategory          0\n",
       "dtype: int64"
      ]
     },
     "execution_count": 50,
     "metadata": {},
     "output_type": "execute_result"
    }
   ],
   "source": [
    "finaldata.isnull().sum()"
   ]
  },
  {
   "cell_type": "code",
   "execution_count": 51,
   "metadata": {},
   "outputs": [],
   "source": [
    "check = list(finaldata['sport'].unique())\n"
   ]
  },
  {
   "cell_type": "code",
   "execution_count": 52,
   "metadata": {},
   "outputs": [
    {
     "data": {
      "text/html": [
       "<div>\n",
       "<style scoped>\n",
       "    .dataframe tbody tr th:only-of-type {\n",
       "        vertical-align: middle;\n",
       "    }\n",
       "\n",
       "    .dataframe tbody tr th {\n",
       "        vertical-align: top;\n",
       "    }\n",
       "\n",
       "    .dataframe thead th {\n",
       "        text-align: right;\n",
       "    }\n",
       "</style>\n",
       "<table border=\"1\" class=\"dataframe\">\n",
       "  <thead>\n",
       "    <tr style=\"text-align: right;\">\n",
       "      <th></th>\n",
       "      <th>pkSeqID</th>\n",
       "      <th>proto</th>\n",
       "      <th>saddr</th>\n",
       "      <th>sport</th>\n",
       "      <th>daddr</th>\n",
       "      <th>dport</th>\n",
       "      <th>seq</th>\n",
       "      <th>stddev</th>\n",
       "      <th>N_IN_Conn_P_SrcIP</th>\n",
       "      <th>min</th>\n",
       "      <th>state_number</th>\n",
       "      <th>mean</th>\n",
       "      <th>N_IN_Conn_P_DstIP</th>\n",
       "      <th>drate</th>\n",
       "      <th>srate</th>\n",
       "      <th>max</th>\n",
       "      <th>attack</th>\n",
       "      <th>category</th>\n",
       "      <th>subcategory</th>\n",
       "    </tr>\n",
       "  </thead>\n",
       "  <tbody>\n",
       "    <tr>\n",
       "      <td>0</td>\n",
       "      <td>792371</td>\n",
       "      <td>udp</td>\n",
       "      <td>192.168.100.150</td>\n",
       "      <td>48516</td>\n",
       "      <td>192.168.100.3</td>\n",
       "      <td>80</td>\n",
       "      <td>175094</td>\n",
       "      <td>0.226784</td>\n",
       "      <td>100</td>\n",
       "      <td>4.100436</td>\n",
       "      <td>4</td>\n",
       "      <td>4.457383</td>\n",
       "      <td>100</td>\n",
       "      <td>0.000000</td>\n",
       "      <td>0.404711</td>\n",
       "      <td>4.719438</td>\n",
       "      <td>1</td>\n",
       "      <td>DoS</td>\n",
       "      <td>UDP</td>\n",
       "    </tr>\n",
       "    <tr>\n",
       "      <td>1</td>\n",
       "      <td>2056418</td>\n",
       "      <td>tcp</td>\n",
       "      <td>192.168.100.148</td>\n",
       "      <td>22267</td>\n",
       "      <td>192.168.100.3</td>\n",
       "      <td>80</td>\n",
       "      <td>143024</td>\n",
       "      <td>0.451998</td>\n",
       "      <td>100</td>\n",
       "      <td>3.439257</td>\n",
       "      <td>1</td>\n",
       "      <td>3.806172</td>\n",
       "      <td>100</td>\n",
       "      <td>0.225077</td>\n",
       "      <td>0.401397</td>\n",
       "      <td>4.442930</td>\n",
       "      <td>1</td>\n",
       "      <td>DDoS</td>\n",
       "      <td>TCP</td>\n",
       "    </tr>\n",
       "    <tr>\n",
       "      <td>2</td>\n",
       "      <td>2795650</td>\n",
       "      <td>udp</td>\n",
       "      <td>192.168.100.149</td>\n",
       "      <td>28629</td>\n",
       "      <td>192.168.100.3</td>\n",
       "      <td>80</td>\n",
       "      <td>167033</td>\n",
       "      <td>1.931553</td>\n",
       "      <td>73</td>\n",
       "      <td>0.000000</td>\n",
       "      <td>4</td>\n",
       "      <td>2.731204</td>\n",
       "      <td>100</td>\n",
       "      <td>0.000000</td>\n",
       "      <td>0.407287</td>\n",
       "      <td>4.138455</td>\n",
       "      <td>1</td>\n",
       "      <td>DDoS</td>\n",
       "      <td>UDP</td>\n",
       "    </tr>\n",
       "    <tr>\n",
       "      <td>3</td>\n",
       "      <td>2118009</td>\n",
       "      <td>tcp</td>\n",
       "      <td>192.168.100.148</td>\n",
       "      <td>42142</td>\n",
       "      <td>192.168.100.3</td>\n",
       "      <td>80</td>\n",
       "      <td>204615</td>\n",
       "      <td>0.428798</td>\n",
       "      <td>56</td>\n",
       "      <td>3.271411</td>\n",
       "      <td>1</td>\n",
       "      <td>3.626428</td>\n",
       "      <td>100</td>\n",
       "      <td>0.000000</td>\n",
       "      <td>0.343654</td>\n",
       "      <td>4.229700</td>\n",
       "      <td>1</td>\n",
       "      <td>DDoS</td>\n",
       "      <td>TCP</td>\n",
       "    </tr>\n",
       "    <tr>\n",
       "      <td>4</td>\n",
       "      <td>303688</td>\n",
       "      <td>tcp</td>\n",
       "      <td>192.168.100.149</td>\n",
       "      <td>1645</td>\n",
       "      <td>192.168.100.5</td>\n",
       "      <td>80</td>\n",
       "      <td>40058</td>\n",
       "      <td>2.058381</td>\n",
       "      <td>100</td>\n",
       "      <td>0.000000</td>\n",
       "      <td>3</td>\n",
       "      <td>1.188407</td>\n",
       "      <td>100</td>\n",
       "      <td>0.000000</td>\n",
       "      <td>0.135842</td>\n",
       "      <td>4.753628</td>\n",
       "      <td>1</td>\n",
       "      <td>DoS</td>\n",
       "      <td>TCP</td>\n",
       "    </tr>\n",
       "    <tr>\n",
       "      <td>...</td>\n",
       "      <td>...</td>\n",
       "      <td>...</td>\n",
       "      <td>...</td>\n",
       "      <td>...</td>\n",
       "      <td>...</td>\n",
       "      <td>...</td>\n",
       "      <td>...</td>\n",
       "      <td>...</td>\n",
       "      <td>...</td>\n",
       "      <td>...</td>\n",
       "      <td>...</td>\n",
       "      <td>...</td>\n",
       "      <td>...</td>\n",
       "      <td>...</td>\n",
       "      <td>...</td>\n",
       "      <td>...</td>\n",
       "      <td>...</td>\n",
       "      <td>...</td>\n",
       "      <td>...</td>\n",
       "    </tr>\n",
       "    <tr>\n",
       "      <td>2934812</td>\n",
       "      <td>1132803</td>\n",
       "      <td>udp</td>\n",
       "      <td>192.168.100.149</td>\n",
       "      <td>56044</td>\n",
       "      <td>192.168.100.5</td>\n",
       "      <td>80</td>\n",
       "      <td>253370</td>\n",
       "      <td>0.016992</td>\n",
       "      <td>100</td>\n",
       "      <td>4.082509</td>\n",
       "      <td>4</td>\n",
       "      <td>4.102515</td>\n",
       "      <td>100</td>\n",
       "      <td>0.000000</td>\n",
       "      <td>0.243473</td>\n",
       "      <td>4.124047</td>\n",
       "      <td>1</td>\n",
       "      <td>DoS</td>\n",
       "      <td>UDP</td>\n",
       "    </tr>\n",
       "    <tr>\n",
       "      <td>2934813</td>\n",
       "      <td>3384621</td>\n",
       "      <td>udp</td>\n",
       "      <td>192.168.100.150</td>\n",
       "      <td>21546</td>\n",
       "      <td>192.168.100.3</td>\n",
       "      <td>80</td>\n",
       "      <td>231693</td>\n",
       "      <td>1.922317</td>\n",
       "      <td>100</td>\n",
       "      <td>0.000000</td>\n",
       "      <td>4</td>\n",
       "      <td>2.718527</td>\n",
       "      <td>100</td>\n",
       "      <td>0.000000</td>\n",
       "      <td>0.490800</td>\n",
       "      <td>4.090534</td>\n",
       "      <td>1</td>\n",
       "      <td>DDoS</td>\n",
       "      <td>UDP</td>\n",
       "    </tr>\n",
       "    <tr>\n",
       "      <td>2934814</td>\n",
       "      <td>775893</td>\n",
       "      <td>udp</td>\n",
       "      <td>192.168.100.149</td>\n",
       "      <td>30897</td>\n",
       "      <td>192.168.100.5</td>\n",
       "      <td>80</td>\n",
       "      <td>158616</td>\n",
       "      <td>2.112228</td>\n",
       "      <td>100</td>\n",
       "      <td>0.000000</td>\n",
       "      <td>4</td>\n",
       "      <td>2.110766</td>\n",
       "      <td>100</td>\n",
       "      <td>0.000000</td>\n",
       "      <td>0.207444</td>\n",
       "      <td>4.332615</td>\n",
       "      <td>1</td>\n",
       "      <td>DoS</td>\n",
       "      <td>UDP</td>\n",
       "    </tr>\n",
       "    <tr>\n",
       "      <td>2934815</td>\n",
       "      <td>443484</td>\n",
       "      <td>tcp</td>\n",
       "      <td>192.168.100.147</td>\n",
       "      <td>36904</td>\n",
       "      <td>192.168.100.7</td>\n",
       "      <td>80</td>\n",
       "      <td>179855</td>\n",
       "      <td>0.000000</td>\n",
       "      <td>100</td>\n",
       "      <td>0.000000</td>\n",
       "      <td>3</td>\n",
       "      <td>0.000000</td>\n",
       "      <td>100</td>\n",
       "      <td>0.000000</td>\n",
       "      <td>0.162130</td>\n",
       "      <td>0.000000</td>\n",
       "      <td>1</td>\n",
       "      <td>DoS</td>\n",
       "      <td>TCP</td>\n",
       "    </tr>\n",
       "    <tr>\n",
       "      <td>2934816</td>\n",
       "      <td>96906</td>\n",
       "      <td>tcp</td>\n",
       "      <td>192.168.100.150</td>\n",
       "      <td>14302</td>\n",
       "      <td>192.168.100.3</td>\n",
       "      <td>80</td>\n",
       "      <td>95429</td>\n",
       "      <td>0.053820</td>\n",
       "      <td>100</td>\n",
       "      <td>0.064767</td>\n",
       "      <td>1</td>\n",
       "      <td>0.118588</td>\n",
       "      <td>100</td>\n",
       "      <td>0.038796</td>\n",
       "      <td>0.116388</td>\n",
       "      <td>0.172408</td>\n",
       "      <td>1</td>\n",
       "      <td>DoS</td>\n",
       "      <td>TCP</td>\n",
       "    </tr>\n",
       "  </tbody>\n",
       "</table>\n",
       "<p>3668522 rows × 19 columns</p>\n",
       "</div>"
      ],
      "text/plain": [
       "         pkSeqID proto            saddr  sport          daddr dport     seq  \\\n",
       "0         792371   udp  192.168.100.150  48516  192.168.100.3    80  175094   \n",
       "1        2056418   tcp  192.168.100.148  22267  192.168.100.3    80  143024   \n",
       "2        2795650   udp  192.168.100.149  28629  192.168.100.3    80  167033   \n",
       "3        2118009   tcp  192.168.100.148  42142  192.168.100.3    80  204615   \n",
       "4         303688   tcp  192.168.100.149   1645  192.168.100.5    80   40058   \n",
       "...          ...   ...              ...    ...            ...   ...     ...   \n",
       "2934812  1132803   udp  192.168.100.149  56044  192.168.100.5    80  253370   \n",
       "2934813  3384621   udp  192.168.100.150  21546  192.168.100.3    80  231693   \n",
       "2934814   775893   udp  192.168.100.149  30897  192.168.100.5    80  158616   \n",
       "2934815   443484   tcp  192.168.100.147  36904  192.168.100.7    80  179855   \n",
       "2934816    96906   tcp  192.168.100.150  14302  192.168.100.3    80   95429   \n",
       "\n",
       "           stddev  N_IN_Conn_P_SrcIP       min  state_number      mean  \\\n",
       "0        0.226784                100  4.100436             4  4.457383   \n",
       "1        0.451998                100  3.439257             1  3.806172   \n",
       "2        1.931553                 73  0.000000             4  2.731204   \n",
       "3        0.428798                 56  3.271411             1  3.626428   \n",
       "4        2.058381                100  0.000000             3  1.188407   \n",
       "...           ...                ...       ...           ...       ...   \n",
       "2934812  0.016992                100  4.082509             4  4.102515   \n",
       "2934813  1.922317                100  0.000000             4  2.718527   \n",
       "2934814  2.112228                100  0.000000             4  2.110766   \n",
       "2934815  0.000000                100  0.000000             3  0.000000   \n",
       "2934816  0.053820                100  0.064767             1  0.118588   \n",
       "\n",
       "         N_IN_Conn_P_DstIP     drate     srate       max  attack category  \\\n",
       "0                      100  0.000000  0.404711  4.719438       1      DoS   \n",
       "1                      100  0.225077  0.401397  4.442930       1     DDoS   \n",
       "2                      100  0.000000  0.407287  4.138455       1     DDoS   \n",
       "3                      100  0.000000  0.343654  4.229700       1     DDoS   \n",
       "4                      100  0.000000  0.135842  4.753628       1      DoS   \n",
       "...                    ...       ...       ...       ...     ...      ...   \n",
       "2934812                100  0.000000  0.243473  4.124047       1      DoS   \n",
       "2934813                100  0.000000  0.490800  4.090534       1     DDoS   \n",
       "2934814                100  0.000000  0.207444  4.332615       1      DoS   \n",
       "2934815                100  0.000000  0.162130  0.000000       1      DoS   \n",
       "2934816                100  0.038796  0.116388  0.172408       1      DoS   \n",
       "\n",
       "        subcategory  \n",
       "0               UDP  \n",
       "1               TCP  \n",
       "2               UDP  \n",
       "3               TCP  \n",
       "4               TCP  \n",
       "...             ...  \n",
       "2934812         UDP  \n",
       "2934813         UDP  \n",
       "2934814         UDP  \n",
       "2934815         TCP  \n",
       "2934816         TCP  \n",
       "\n",
       "[3668522 rows x 19 columns]"
      ]
     },
     "execution_count": 52,
     "metadata": {},
     "output_type": "execute_result"
    }
   ],
   "source": [
    "finaldata.dropna(axis = 0, how ='any')"
   ]
  },
  {
   "cell_type": "code",
   "execution_count": 53,
   "metadata": {},
   "outputs": [
    {
     "data": {
      "text/plain": [
       "pkSeqID              0\n",
       "proto                0\n",
       "saddr                0\n",
       "sport                0\n",
       "daddr                0\n",
       "dport                0\n",
       "seq                  0\n",
       "stddev               0\n",
       "N_IN_Conn_P_SrcIP    0\n",
       "min                  0\n",
       "state_number         0\n",
       "mean                 0\n",
       "N_IN_Conn_P_DstIP    0\n",
       "drate                0\n",
       "srate                0\n",
       "max                  0\n",
       "attack               0\n",
       "category             0\n",
       "subcategory          0\n",
       "dtype: int64"
      ]
     },
     "execution_count": 53,
     "metadata": {},
     "output_type": "execute_result"
    }
   ],
   "source": [
    "finaldata.isnull().sum()"
   ]
  },
  {
   "cell_type": "code",
   "execution_count": 54,
   "metadata": {},
   "outputs": [
    {
     "data": {
      "text/plain": [
       "0"
      ]
     },
     "execution_count": 54,
     "metadata": {},
     "output_type": "execute_result"
    }
   ],
   "source": [
    "finaldata['sport'].isnull().sum()"
   ]
  },
  {
   "cell_type": "code",
   "execution_count": null,
   "metadata": {},
   "outputs": [],
   "source": []
  },
  {
   "cell_type": "code",
   "execution_count": null,
   "metadata": {},
   "outputs": [],
   "source": []
  },
  {
   "cell_type": "code",
   "execution_count": 55,
   "metadata": {},
   "outputs": [],
   "source": [
    "%matplotlib inline\n",
    "from sklearn.metrics import roc_curve, auc\n",
    "\n",
    "# Plot a confusion matrix.\n",
    "# cm is the confusion matrix, names are the names of the classes.\n",
    "def plot_confusion_matrix(cm, names, title='Confusion matrix', cmap=plt.cm.Blues):\n",
    "    plt.imshow(cm, interpolation='nearest', cmap=cmap)\n",
    "    plt.title(title)\n",
    "    plt.colorbar()\n",
    "    tick_marks = np.arange(len(names))\n",
    "    plt.xticks(tick_marks, names, rotation=45)\n",
    "    plt.yticks(tick_marks, names)\n",
    "    plt.tight_layout()\n",
    "    plt.ylabel('True label')\n",
    "    plt.xlabel('Predicted label')\n",
    "    \n",
    "\n",
    "# Plot an ROC. pred - the predictions, y - the expected output.\n",
    "def plot_roc(pred,y):\n",
    "    fpr, tpr, thresholds = roc_curve(y, pred)\n",
    "    roc_auc = auc(fpr, tpr)\n",
    "    plt.figure()\n",
    "    plt.plot(fpr, tpr, label='ROC curve (area = %0.2f)' % roc_auc)\n",
    "    plt.plot([0, 1], [0, 1], 'k--')\n",
    "    plt.xlim([0.0, 1.0])\n",
    "    plt.ylim([0.0, 1.05])\n",
    "    plt.xlabel('False Positive Rate')\n",
    "    plt.ylabel('True Positive Rate')\n",
    "    plt.title('Receiver Operating Characteristic (ROC)')\n",
    "    plt.legend(loc=\"lower right\")\n",
    "    plt.show()"
   ]
  },
  {
   "cell_type": "code",
   "execution_count": 56,
   "metadata": {},
   "outputs": [],
   "source": [
    "from collections.abc import Sequence\n",
    "from sklearn import preprocessing\n",
    "import matplotlib.pyplot as plt\n",
    "import numpy as np\n",
    "import pandas as pd\n",
    "import shutil\n",
    "import os\n",
    " \n",
    "\n",
    "# Encode text values to dummy variables(i.e. [1,0,0],[0,1,0],[0,0,1] for red,green,blue)\n",
    "def encode_text_dummy(df, name):\n",
    "    dummies = pd.get_dummies(df[name])\n",
    "    for x in dummies.columns:\n",
    "        dummy_name = \"{}-{}\".format(name, x)\n",
    "        df[dummy_name] = dummies[x]\n",
    "    df.drop(name, axis=1, inplace=True)\n",
    "\n",
    "\n",
    "\n",
    "# Encode text values to indexes(i.e. [1],[2],[3] for red,green,blue).\n",
    "def encode_text_index(df, name):\n",
    "    le = preprocessing.LabelEncoder()\n",
    "    df[name] = le.fit_transform(df[name])\n",
    "    return le.classes_\n",
    "\n",
    "\n",
    "# Encode a numeric column as zscores\n",
    "def encode_numeric_zscore(df, name, mean=None, sd=None):\n",
    "    if mean is None:\n",
    "        mean = df[name].mean()\n",
    "\n",
    "    if sd is None:\n",
    "        sd = df[name].std()\n",
    "\n",
    "    df[name] = (df[name] - mean) / sd\n",
    "\n",
    "\n",
    "# Convert all missing values in the specified column to the median\n",
    "def missing_median(df, name):\n",
    "    med = df[name].median()\n",
    "    df[name] = df[name].fillna(med)\n",
    "\n",
    "\n",
    "# Convert all missing values in the specified column to the default\n",
    "def missing_default(df, name, default_value):\n",
    "    df[name] = df[name].fillna(default_value)\n",
    "\n",
    "\n",
    "# Convert a Pandas dataframe to the x,y inputs that TensorFlow needs\n",
    "def to_xy(df, target):\n",
    "    result = []\n",
    "    for x in df.columns:\n",
    "        if x != target:\n",
    "            result.append(x)\n",
    "    # find out the type of the target column. \n",
    "    target_type = df[target].dtypes\n",
    "    target_type = target_type[0] if isinstance(target_type, Sequence) else target_type\n",
    "    # Encode to int for classification, float otherwise. TensorFlow likes 32 bits.\n",
    "    if target_type in (np.int64, np.int32):\n",
    "        # Classification\n",
    "        dummies = pd.get_dummies(df[target])\n",
    "        return df[result].values.astype(np.float32), df.dummies.values.astype(np.float32)\n",
    "    else:\n",
    "        # Regression\n",
    "        return df[result].values.astype(np.float32), df[target].values.astype(np.float32)\n",
    "\n",
    "# Nicely formatted time string\n",
    "def hms_string(sec_elapsed):\n",
    "    h = int(sec_elapsed / (60 * 60))\n",
    "    m = int((sec_elapsed % (60 * 60)) / 60)\n",
    "    s = sec_elapsed % 60\n",
    "    return \"{}:{:>02}:{:>05.2f}\".format(h, m, s)\n",
    "\n",
    "\n",
    "# Regression chart.\n",
    "def chart_regression(pred,y,sort=True):\n",
    "    t = pd.DataFrame({'pred' : pred, 'y' : y.flatten()})\n",
    "    if sort:\n",
    "        t.sort_values(by=['y'],inplace=True)\n",
    "    a = plt.plot(t['y'].tolist(),label='expected')\n",
    "    b = plt.plot(t['pred'].tolist(),label='prediction')\n",
    "    plt.ylabel('output')\n",
    "    plt.legend()\n",
    "    plt.show()\n",
    "\n",
    "# Remove all rows where the specified column is +/- sd standard deviations\n",
    "def remove_outliers(df, name, sd):\n",
    "    drop_rows = df.index[(np.abs(df[name] - df[name].mean()) >= (sd * df[name].std()))]\n",
    "    df.drop(drop_rows, axis=0, inplace=True)\n",
    "\n",
    "\n",
    "# Encode a column to a range between normalized_low and normalized_high.\n",
    "def encode_numeric_range(df, name, normalized_low=-1, normalized_high=1,\n",
    "                         data_low=None, data_high=None):\n",
    "    if data_low is None:\n",
    "        data_low = min(df[name])\n",
    "        data_high = max(df[name])\n",
    "\n",
    "    df[name] = ((df[name] - data_low) / (data_high - data_low)) \\\n",
    "               * (normalized_high - normalized_low) + normalized_low"
   ]
  },
  {
   "cell_type": "code",
   "execution_count": 57,
   "metadata": {},
   "outputs": [],
   "source": [
    "finaldata.drop(['sport'], axis=1, inplace=True)\n",
    "finaldata.drop(['dport'], axis=1, inplace=True)"
   ]
  },
  {
   "cell_type": "code",
   "execution_count": 58,
   "metadata": {},
   "outputs": [],
   "source": [
    "proto = encode_text_dummy(finaldata,\"proto\")\n",
    "saddr = encode_text_dummy(finaldata,\"saddr\")\n",
    "daddr = encode_text_dummy(finaldata,\"daddr\")\n",
    "category = encode_text_index(finaldata,\"category\")\n",
    "subcategory = encode_text_dummy(finaldata,\"subcategory\")\n",
    "\n",
    "\n"
   ]
  },
  {
   "cell_type": "code",
   "execution_count": 59,
   "metadata": {},
   "outputs": [],
   "source": [
    "finaldata.drop(['pkSeqID'], axis=1, inplace=True)"
   ]
  },
  {
   "cell_type": "code",
   "execution_count": 62,
   "metadata": {},
   "outputs": [],
   "source": [
    "encode_numeric_zscore(finaldata,['seq', 'stddev',\n",
    "       'N_IN_Conn_P_SrcIP', 'min', 'state_number', 'mean', 'N_IN_Conn_P_DstIP',\n",
    "       'drate', 'srate', 'max', 'attack',])"
   ]
  },
  {
   "cell_type": "code",
   "execution_count": 63,
   "metadata": {},
   "outputs": [],
   "source": [
    "import io\n",
    "import requests\n",
    "import os\n",
    "from tensorflow.keras.models import Sequential\n",
    "from tensorflow.keras.layers import Dense, Activation\n",
    "from tensorflow.keras.callbacks import EarlyStopping\n",
    "from tensorflow.keras.callbacks import ModelCheckpoint\n",
    "from collections.abc import Sequence\n",
    "from sklearn import preprocessing\n",
    "import matplotlib.pyplot as plt\n",
    "import numpy as np\n",
    "import pandas as pd\n",
    "import shutil\n",
    "\n",
    "\n",
    "\n",
    "def to_xy(df, target):\n",
    "    result = []\n",
    "    for x in df.columns:\n",
    "        if x != target:\n",
    "            result.append(x)\n",
    "    # find out the type of the target column. \n",
    "    target_type = df[target].dtypes\n",
    "    target_type = target_type[0] if isinstance(target_type, Sequence) else target_type\n",
    "    # Encode to int for classification, float otherwise. TensorFlow likes 32 bits.\n",
    "    if target_type in (np.int64, np.int32):\n",
    "        # Classification\n",
    "        dummies = pd.get_dummies(df[target])\n",
    "        return df[result].values.astype(np.float32), dummies.values.astype(np.float32)\n",
    "    else:\n",
    "        # Regression\n",
    "        return df[result].values.astype(np.float32), df[target].values.astype(np.float32)"
   ]
  },
  {
   "cell_type": "code",
   "execution_count": 64,
   "metadata": {},
   "outputs": [],
   "source": [
    "x,y = to_xy(finaldata,'category')"
   ]
  },
  {
   "cell_type": "code",
   "execution_count": null,
   "metadata": {},
   "outputs": [],
   "source": []
  },
  {
   "cell_type": "code",
   "execution_count": 65,
   "metadata": {},
   "outputs": [
    {
     "data": {
      "text/plain": [
       "array([[1., 0., 0., 0., 0.],\n",
       "       [1., 0., 0., 0., 0.],\n",
       "       [1., 0., 0., 0., 0.],\n",
       "       ...,\n",
       "       [1., 0., 0., 0., 0.],\n",
       "       [1., 0., 0., 0., 0.],\n",
       "       [1., 0., 0., 0., 0.]], dtype=float32)"
      ]
     },
     "execution_count": 65,
     "metadata": {},
     "output_type": "execute_result"
    }
   ],
   "source": [
    "x_train, x_test, y_train, y_test = train_test_split(x, y, test_size=0.25, random_state=42)\n",
    "\n",
    "y_train"
   ]
  },
  {
   "cell_type": "code",
   "execution_count": 66,
   "metadata": {},
   "outputs": [
    {
     "name": "stdout",
     "output_type": "stream",
     "text": [
      "Train on 2751391 samples, validate on 917131 samples\n",
      "Epoch 1/1000\n",
      "2751391/2751391 - 66s - loss: 0.0173 - val_loss: 0.0093\n",
      "Epoch 2/1000\n",
      "2751391/2751391 - 62s - loss: 0.0060 - val_loss: 0.0077\n",
      "Epoch 3/1000\n",
      "2751391/2751391 - 62s - loss: 0.0043 - val_loss: 0.0034\n",
      "Epoch 4/1000\n",
      "2751391/2751391 - 67s - loss: 0.0041 - val_loss: 0.0024\n",
      "Epoch 5/1000\n",
      "2751391/2751391 - 70s - loss: 0.0032 - val_loss: 0.0027\n",
      "Epoch 6/1000\n",
      "2751391/2751391 - 68s - loss: 0.0030 - val_loss: 0.0025\n"
     ]
    }
   ],
   "source": [
    "from tensorflow.keras.layers import Dropout\n",
    "model = Sequential()\n",
    "model.add(Dense(25, input_dim=x_train.shape[1], activation='relu'))\n",
    "#model.add(Dense(10))\n",
    "model.add(Dense(15,activation='relu',input_dim=20))\n",
    "#model.add(Dropout(0.5))\n",
    "model.add(Dense(10))\n",
    "#model.add(Dropout(0.5))\n",
    "model.add(Dense(y_train.shape[1],activation='softmax'))\n",
    "model.compile(loss='categorical_crossentropy', optimizer='adam')\n",
    "\n",
    "monitor = EarlyStopping(monitor='val_loss', min_delta=1e-3, patience=2, verbose=0, mode='auto')\n",
    "checkpointer = ModelCheckpoint(filepath=\"best_weights1.hdf5\", verbose=0, save_best_only=True) # save best model\n",
    "\n",
    "model.fit(x_train,y_train,validation_data=(x_test,y_test),callbacks=[monitor,checkpointer],verbose=2,epochs=1000,batch_size=128)\n",
    "\n",
    "#score = model.evaluate(x_test, y_test, batch_size=128)\n",
    "\n",
    "model.load_weights('best_weights1.hdf5') "
   ]
  },
  {
   "cell_type": "code",
   "execution_count": 67,
   "metadata": {},
   "outputs": [
    {
     "name": "stdout",
     "output_type": "stream",
     "text": [
      "[1 1 3 ... 0 0 1]\n",
      "[1 1 3 ... 0 0 1]\n"
     ]
    }
   ],
   "source": [
    "y_pred = model.predict(x_test)\n",
    "y_pred = np.argmax(y_pred,axis=1) # raw probabilities to choose class (highest probability)\n",
    "print(y_pred)\n",
    "y_test = np.argmax(y_test,axis=1)\n",
    "print(y_test)"
   ]
  },
  {
   "cell_type": "code",
   "execution_count": 68,
   "metadata": {},
   "outputs": [
    {
     "data": {
      "text/plain": [
       "0.99930217166359"
      ]
     },
     "execution_count": 68,
     "metadata": {},
     "output_type": "execute_result"
    }
   ],
   "source": [
    "accuracy = metrics.accuracy_score(y_test, y_pred)\n",
    "accuracy"
   ]
  },
  {
   "cell_type": "code",
   "execution_count": 69,
   "metadata": {},
   "outputs": [
    {
     "name": "stdout",
     "output_type": "stream",
     "text": [
      "Precision-score: 0.9993029484342165\n"
     ]
    }
   ],
   "source": [
    "score = metrics.precision_score(y_test, y_pred, average= \"weighted\")\n",
    "print(\"Precision-score: {}\".format(score))"
   ]
  },
  {
   "cell_type": "code",
   "execution_count": 70,
   "metadata": {},
   "outputs": [
    {
     "name": "stdout",
     "output_type": "stream",
     "text": [
      "Recall-score: 0.99930217166359\n"
     ]
    }
   ],
   "source": [
    "score = metrics.recall_score(y_test, y_pred, average= \"weighted\")\n",
    "print(\"Recall-score: {}\".format(score))"
   ]
  },
  {
   "cell_type": "code",
   "execution_count": 71,
   "metadata": {},
   "outputs": [
    {
     "name": "stdout",
     "output_type": "stream",
     "text": [
      "F1-score: 0.9993024106847421\n"
     ]
    }
   ],
   "source": [
    "score = metrics.f1_score(y_test,  y_pred, average= \"weighted\")\n",
    "print(\"F1-score: {}\".format(score))"
   ]
  },
  {
   "cell_type": "code",
   "execution_count": 72,
   "metadata": {},
   "outputs": [],
   "source": [
    "classification = metrics.classification_report(y_test, y_pred)"
   ]
  },
  {
   "cell_type": "code",
   "execution_count": 74,
   "metadata": {},
   "outputs": [
    {
     "name": "stdout",
     "output_type": "stream",
     "text": [
      "<function confusion_matrix at 0x000001847B022558>\n",
      "              precision    recall  f1-score   support\n",
      "\n",
      "           0       1.00      1.00      1.00    481337\n",
      "           1       1.00      1.00      1.00    412817\n",
      "           2       0.97      1.00      0.98       129\n",
      "           3       1.00      1.00      1.00     22829\n",
      "           4       0.82      0.95      0.88        19\n",
      "\n",
      "    accuracy                           1.00    917131\n",
      "   macro avg       0.96      0.99      0.97    917131\n",
      "weighted avg       1.00      1.00      1.00    917131\n",
      "\n",
      "0.99930217166359\n"
     ]
    }
   ],
   "source": [
    "from sklearn.metrics import confusion_matrix, classification_report\n",
    "print(confusion_matrix)\n",
    "print(classification)\n",
    "print(accuracy)"
   ]
  },
  {
   "cell_type": "code",
   "execution_count": 75,
   "metadata": {},
   "outputs": [
    {
     "name": "stdout",
     "output_type": "stream",
     "text": [
      "[[480958    378      0      0      1]\n",
      " [   253 412561      0      0      3]\n",
      " [     0      0    129      0      0]\n",
      " [     0      0      4  22825      0]\n",
      " [     0      1      0      0     18]]\n",
      "Plotting confusion matrix\n"
     ]
    },
    {
     "data": {
      "image/png": "[encoded data removed]",
      "text/plain": [
       "<Figure size 432x288 with 2 Axes>"
      ]
     },
     "metadata": {
      "needs_background": "light"
     },
     "output_type": "display_data"
    }
   ],
   "source": [
    "from sklearn.metrics import confusion_matrix, classification_report\n",
    "cm = confusion_matrix(y_test, y_pred)\n",
    "print(cm)\n",
    "\n",
    "print('Plotting confusion matrix')\n",
    "\n",
    "plt.figure()\n",
    "plot_confusion_matrix(cm, [0, 1])\n",
    "plt.show()"
   ]
  },
  {
   "cell_type": "code",
   "execution_count": null,
   "metadata": {},
   "outputs": [],
   "source": []
  }
 ],
 "metadata": {
  "kernelspec": {
   "display_name": "Python 3",
   "language": "python",
   "name": "python3"
  },
  "language_info": {
   "codemirror_mode": {
    "name": "ipython",
    "version": 3
   },
   "file_extension": ".py",
   "mimetype": "text/x-python",
   "name": "python",
   "nbconvert_exporter": "python",
   "pygments_lexer": "ipython3",
   "version": "3.7.4"
  }
 },
 "nbformat": 4,
 "nbformat_minor": 2
}
